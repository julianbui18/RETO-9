{
 "cells": [
  {
   "cell_type": "markdown",
   "id": "f21a078e",
   "metadata": {},
   "source": [
    "PUNTO 1"
   ]
  },
  {
   "cell_type": "code",
   "execution_count": 2,
   "id": "94976324",
   "metadata": {},
   "outputs": [
    {
     "name": "stdout",
     "output_type": "stream",
     "text": [
      "El promedio es: 2.0\n"
     ]
    }
   ],
   "source": [
    "cantidad = int(input(\"Cantidad de valores a promediar \"))\n",
    "valores = []\n",
    "for n in range(cantidad):\n",
    "    numero = float(input(\"Ingrese el valor \" + str(n + 1) + \": \"))\n",
    "    valores.append(numero)\n",
    "suma = 0\n",
    "for numero in valores:\n",
    "    suma += numero\n",
    "if cantidad > 0:\n",
    "    promedio = suma / cantidad\n",
    "    print(\"El promedio es: \" + str(promedio))\n",
    "else:\n",
    "    print(\"No hay valores para calcular el promedio.\")"
   ]
  },
  {
   "cell_type": "markdown",
   "id": "824d2041",
   "metadata": {},
   "source": [
    "PUNTO 2"
   ]
  },
  {
   "cell_type": "code",
   "execution_count": 1,
   "id": "7c932621",
   "metadata": {},
   "outputs": [
    {
     "name": "stdout",
     "output_type": "stream",
     "text": [
      "El producto punto es: 53.0\n"
     ]
    }
   ],
   "source": [
    "cantidad = int(input(\"Ingrese la cantidad de elementos de los arreglos \"))\n",
    "arreglo1 = []\n",
    "arreglo2 = []\n",
    "for n in range(cantidad):\n",
    "    numero1 = float(input(\"Ingrese el valor \" + str(n + 1) + \" del primer arreglo: \"))\n",
    "    arreglo1.append(numero1)\n",
    "for n in range(cantidad):\n",
    "    numero2 = float(input(\"Ingrese el valor \" + str(n + 1) + \" del segundo arreglo: \"))\n",
    "    arreglo2.append(numero2)\n",
    "producto_punto = 0\n",
    "for n in range(cantidad):\n",
    "    producto_punto = producto_punto + (arreglo1[n] * arreglo2[n])\n",
    "print(\"El producto punto es: \" + str(producto_punto))"
   ]
  },
  {
   "cell_type": "markdown",
   "id": "1e0b61fe",
   "metadata": {},
   "source": [
    "PUNTO 3"
   ]
  },
  {
   "cell_type": "code",
   "execution_count": 2,
   "id": "d02c3c38",
   "metadata": {},
   "outputs": [
    {
     "name": "stdout",
     "output_type": "stream",
     "text": [
      "El arreglo con los ceros al final es: [1, 4]\n"
     ]
    }
   ],
   "source": [
    "cantidad = int(input(\"Ingrese la cantidad de elementos de los arreglos \"))\n",
    "arreglo = []\n",
    "for n in range(cantidad):\n",
    "    numero = int(input(\"Ingresar el número \" + str(n + 1) + \": \"))\n",
    "    arreglo.append(numero)\n",
    "no_ceros = []\n",
    "contador_ceros = 0\n",
    "for n in range(cantidad):\n",
    "    if arreglo[n] != 0:\n",
    "        no_ceros.append(arreglo[n])\n",
    "    else:\n",
    "        contador_ceros = contador_ceros + 1\n",
    "for n in range(contador_ceros):\n",
    "    no_ceros.append(0)\n",
    "print(\"El arreglo con los ceros al final es: \" + str(no_ceros))"
   ]
  }
 ],
 "metadata": {
  "kernelspec": {
   "display_name": "Python 3",
   "language": "python",
   "name": "python3"
  },
  "language_info": {
   "codemirror_mode": {
    "name": "ipython",
    "version": 3
   },
   "file_extension": ".py",
   "mimetype": "text/x-python",
   "name": "python",
   "nbconvert_exporter": "python",
   "pygments_lexer": "ipython3",
   "version": "3.10.11"
  }
 },
 "nbformat": 4,
 "nbformat_minor": 5
}
